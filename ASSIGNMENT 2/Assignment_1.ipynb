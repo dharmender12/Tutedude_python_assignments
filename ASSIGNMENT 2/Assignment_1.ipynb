{
 "cells": [
  {
   "cell_type": "markdown",
   "id": "952222ea",
   "metadata": {},
   "source": [
    "### ASSIGNMENT 1:\n",
    "#### Module 2: Basic Python Concepts\n"
   ]
  },
  {
   "cell_type": "markdown",
   "id": "095601c5",
   "metadata": {},
   "source": [
    "##### Task 1: Perform Basic Mathematical Operations\n",
    "**Problem Statement: Write a Python program that does the following:**\n",
    "\n",
    "1.  Takes two numbers as input from the user.\n",
    "\n"
   ]
  },
  {
   "cell_type": "code",
   "execution_count": null,
   "id": "37ab5685",
   "metadata": {},
   "outputs": [
    {
     "name": "stdout",
     "output_type": "stream",
     "text": [
      "The first number is : 2.0\n",
      "The second number is : 4.0\n"
     ]
    }
   ],
   "source": [
    "## two numbers as input from user\n",
    "a = input('Enter the first number : ')\n",
    "b = input('Enter the second number : ')\n",
    "\n",
    "a = float(a)\n",
    "b = float(b)\n"
   ]
  },
  {
   "cell_type": "markdown",
   "id": "81d84add",
   "metadata": {},
   "source": [
    "2.  Performs the basic mathematical operations on these two numbers:\n",
    "    -\tAddition\n",
    "    -\tSubtraction\n",
    "    -\tMultiplication\n",
    "    -\tDivision"
   ]
  },
  {
   "cell_type": "code",
   "execution_count": null,
   "id": "fe5692a5",
   "metadata": {},
   "outputs": [
    {
     "name": "stdout",
     "output_type": "stream",
     "text": [
      "Addition is : 6.0\n",
      "substraction is : -2.0\n",
      "multiplication is : 8.0\n",
      "division is : 0.5\n"
     ]
    }
   ],
   "source": [
    "addition = a + b \n",
    "substraction = a - b \n",
    "multiplication = a * b\n",
    "division = a / b "
   ]
  },
  {
   "cell_type": "markdown",
   "id": "0152bbf5",
   "metadata": {},
   "source": [
    "3.  Displays the results of each operation on the screen."
   ]
  },
  {
   "cell_type": "code",
   "execution_count": null,
   "id": "128d4d73",
   "metadata": {},
   "outputs": [],
   "source": [
    "print(f\"Addition : {addition}\")\n",
    "print(f'substraction : {substraction}')\n",
    "print(f'multiplication : {multiplication}')\n",
    "print(f'division : {division}')"
   ]
  },
  {
   "cell_type": "markdown",
   "id": "e04cb547",
   "metadata": {},
   "source": [
    "### Task 2: Create a Personalized Greeting\n",
    "**Problem Statement:** Write a Python program that:\n",
    "1.  Takes a user's first name and last name as input.\n",
    "2.  Concatenates the first name and last name into a full name.\n",
    "3.  Prints a personalized greeting message using the full name.\n"
   ]
  },
  {
   "cell_type": "code",
   "execution_count": 7,
   "id": "33ce790b",
   "metadata": {},
   "outputs": [
    {
     "name": "stdout",
     "output_type": "stream",
     "text": [
      "Hello, John Doe! welcom to the Python Program.\n"
     ]
    }
   ],
   "source": [
    "f_name = input('Enter your first name: ')\n",
    "l_name = input('Enter your last name: ')\n",
    "\n",
    "full_name = f_name + ' ' + l_name\n",
    "print(f'Hello, {full_name}! welcom to the Python Program.')"
   ]
  }
 ],
 "metadata": {
  "kernelspec": {
   "display_name": "base",
   "language": "python",
   "name": "python3"
  },
  "language_info": {
   "codemirror_mode": {
    "name": "ipython",
    "version": 3
   },
   "file_extension": ".py",
   "mimetype": "text/x-python",
   "name": "python",
   "nbconvert_exporter": "python",
   "pygments_lexer": "ipython3",
   "version": "3.12.11"
  }
 },
 "nbformat": 4,
 "nbformat_minor": 5
}
